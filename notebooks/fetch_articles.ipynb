{
 "cells": [
  {
   "cell_type": "code",
   "execution_count": 1,
   "metadata": {},
   "outputs": [],
   "source": [
    "from data_ingestion.vector_db import get_vector_store\n",
    "from data_ingestion.utils.utils import get_website_html\n",
    "from data_ingestion.scraper import get_articles_publication_dates, extract_images_urls"
   ]
  },
  {
   "cell_type": "code",
   "execution_count": 2,
   "metadata": {},
   "outputs": [
    {
     "name": "stdout",
     "output_type": "stream",
     "text": [
      "['Jan 01, 2025', 'Dec 25, 2024', 'Dec 18, 2024', 'Dec 11, 2024', 'Dec 04, 2024']\n"
     ]
    }
   ],
   "source": [
    "THE_BATCH_URL = \"https://www.deeplearning.ai/the-batch/\"\n",
    "\n",
    "base_url_html = get_website_html(THE_BATCH_URL)\n",
    "articles_dates = get_articles_publication_dates(base_url_html)\n",
    "print(articles_dates[:5])"
   ]
  },
  {
   "cell_type": "code",
   "execution_count": 3,
   "metadata": {},
   "outputs": [],
   "source": [
    "def process_vector_store_metadatas(vector_store):\n",
    "    vector_db = vector_store.get()\n",
    "    metadatas = vector_db['metadatas']\n",
    "    articles_metadatas = []\n",
    "    for metadata in metadatas:\n",
    "        if metadata['source'] == 0:\n",
    "            articles_metadatas.append(metadata)\n",
    "\n",
    "    articles_metadatas = sorted(articles_metadatas, key = lambda x: x['article_link'])\n",
    "    articles_metadatas.reverse()\n",
    "    articles_metadatas = [{k: v for k, v in met.items() if k != \"source\" and k != \"chunk_heading\"} for met in articles_metadatas]\n",
    "\n",
    "    articles_dates = get_articles_publication_dates(base_url_html)\n",
    "    \n",
    "    dates_metadatas = []\n",
    "    for metadata in zip(articles_metadatas, articles_dates):\n",
    "        new_metadata = metadata[0]\n",
    "        new_metadata[\"article_publication_date\"] = metadata[1]\n",
    "        dates_metadatas.append(new_metadata)\n",
    "\n",
    "    image_urls = extract_images_urls(base_url_html)\n",
    "\n",
    "    final_metadata = []\n",
    "    for met in zip(dates_metadatas, image_urls):\n",
    "        met[0][\"article_image_url\"] = met[1]\n",
    "        final_metadata.append(met[0])\n",
    "\n",
    "    return final_metadata"
   ]
  },
  {
   "cell_type": "code",
   "execution_count": 4,
   "metadata": {},
   "outputs": [
    {
     "name": "stdout",
     "output_type": "stream",
     "text": [
      "Featured image URL: https://dl-staging-website.ghost.io/content/images/2025/01/unnamed--35--1.png\n"
     ]
    },
    {
     "data": {
      "text/plain": [
       "[{'article_link': 'https://www.deeplearning.ai/the-batch/issue-282/',\n",
       "  'article_title': 'Happy New Year! Hopes For 2025 With Mustafa Suleyman, Audrey Tang, Albert Gu, Hanno Basse, Joseph Gonzalez, David Ding',\n",
       "  'article_publication_date': 'Jan 01, 2025',\n",
       "  'article_image_url': 'https://dl-staging-website.ghost.io/content/images/2025/01/unnamed--35--1.png'},\n",
       " {'article_link': 'https://www.deeplearning.ai/the-batch/issue-281/',\n",
       "  'article_title': 'Top AI Stories of 2024! Agents Rise, Prices Fall, Models Shrink, Video Takes Off, Acquisitions Morph',\n",
       "  'article_publication_date': 'Dec 25, 2024',\n",
       "  'article_image_url': 'https://dl-staging-website.ghost.io/content/images/2024/12/unnamed--39--1.jpg'},\n",
       " {'article_link': 'https://www.deeplearning.ai/the-batch/issue-280/',\n",
       "  'article_title': 'Phi-4 Breaks Size Barrier, HunyuanVideo Narrows Open Source Gap, Gemini 2.0 Flash Accelerates Multimodal Modeling, LLMs Propose Research Ideas',\n",
       "  'article_publication_date': 'Dec 18, 2024',\n",
       "  'article_image_url': 'https://dl-staging-website.ghost.io/content/images/2024/12/unnamed--32--1.png'},\n",
       " {'article_link': 'https://www.deeplearning.ai/the-batch/issue-279/',\n",
       "  'article_title': 'Amazon Nova’s Competitive Price/Performance, OpenAI o1 Pro’s High Price/Performance, Google’s Game Worlds on Tap, Factual LLMs',\n",
       "  'article_publication_date': 'Dec 11, 2024',\n",
       "  'article_image_url': 'https://dl-staging-website.ghost.io/content/images/2024/12/unnamed--38--1.jpg'},\n",
       " {'article_link': 'https://www.deeplearning.ai/the-batch/issue-278/',\n",
       "  'article_title': 'AI Agents Spend Real Money, Breaking Jailbreaks, Mistral Goes Big and Multimodal, AI’s Growing E-Waste Problem',\n",
       "  'article_publication_date': 'Dec 04, 2024',\n",
       "  'article_image_url': 'https://dl-staging-website.ghost.io/content/images/2024/12/unnamed--25--1.png'},\n",
       " {'article_link': 'https://www.deeplearning.ai/the-batch/issue-277/',\n",
       "  'article_title': 'DeepSeek Takes On OpenAI, Robots Fold Laundry, Amazon and Anthropic Expand Partnership, More Efficient Object Detection',\n",
       "  'article_publication_date': 'Nov 27, 2024',\n",
       "  'article_image_url': 'https://dl-staging-website.ghost.io/content/images/2024/11/unnamed--35--1.jpg'},\n",
       " {'article_link': 'https://www.deeplearning.ai/the-batch/issue-276/',\n",
       "  'article_title': 'Next-Gen Models Show Limited Gains, Real-Time Video Generation, China AI Chips Blocked, Transformer Training Streamlined',\n",
       "  'article_publication_date': 'Nov 20, 2024',\n",
       "  'article_image_url': 'https://dl-staging-website.ghost.io/content/images/2024/11/Captura-de-pantalla-2024-11-20-a-la-s--2.49.16-p.-m.-1.png'},\n",
       " {'article_link': 'https://www.deeplearning.ai/the-batch/issue-275/',\n",
       "  'article_title': 'Llama On the Battlefield, Mixture of Experts Pulls Ahead, Open Agentic Platform, Voter Support Chatbot',\n",
       "  'article_publication_date': 'Nov 13, 2024',\n",
       "  'article_image_url': 'https://dl-staging-website.ghost.io/content/images/2024/11/unnamed--33--1.jpg'},\n",
       " {'article_link': 'https://www.deeplearning.ai/the-batch/issue-274/',\n",
       "  'article_title': 'AI Controls Desktops, Agents Train Algorithms, Does Anyone Comply With the EU’s AI Act?, Robots on the Loading Dock',\n",
       "  'article_publication_date': 'Nov 06, 2024',\n",
       "  'article_image_url': 'https://dl-staging-website.ghost.io/content/images/2024/11/unnamed--32--1.jpg'},\n",
       " {'article_link': 'https://www.deeplearning.ai/the-batch/issue-273/',\n",
       "  'article_title': 'Trick or treat! AI Devours Energy, Innovation Can’t Win, Models Collapse, Benchmark Tests Are Meaningless, No Work for Coders',\n",
       "  'article_publication_date': 'Oct 30, 2024',\n",
       "  'article_image_url': 'https://dl-staging-website.ghost.io/content/images/2024/10/unnamed--27--1.jpg'},\n",
       " {'article_link': 'https://www.deeplearning.ai/the-batch/issue-272/',\n",
       "  'article_title': 'AI Giants Go Nuclear, A Tech Bromance Turns Turbulent, Mistral Sharpens the Edge, Cheaper Video Generation',\n",
       "  'article_publication_date': 'Oct 23, 2024',\n",
       "  'article_image_url': 'https://dl-staging-website.ghost.io/content/images/2024/10/unnamed--23--1.jpg'},\n",
       " {'article_link': 'https://www.deeplearning.ai/the-batch/issue-271/',\n",
       "  'article_title': 'Bogus Apps, AI Boomtown, Better Embeddings, 2024 Highlights',\n",
       "  'article_publication_date': 'Oct 16, 2024',\n",
       "  'article_image_url': 'https://dl-staging-website.ghost.io/content/images/2024/10/Disen-o-sin-ti-tulo.png'},\n",
       " {'article_link': 'https://www.deeplearning.ai/the-batch/issue-270/',\n",
       "  'article_title': 'How Meta’s Movie Gen Does It, AI’s Criminal Underground, Court Says LAION is Legal, OpenAI’s New Voice API',\n",
       "  'article_publication_date': 'Oct 09, 2024',\n",
       "  'article_image_url': 'https://dl-staging-website.ghost.io/content/images/2024/10/HINTON-PARTY.jpg'},\n",
       " {'article_link': 'https://www.deeplearning.ai/the-batch/issue-269/',\n",
       "  'article_title': 'Llama Goes Multimodal, Pros Embrace Generative Video, Military AI Guidelines, LLMs That Read Spreadsheets',\n",
       "  'article_publication_date': 'Oct 02, 2024',\n",
       "  'article_image_url': 'https://dl-staging-website.ghost.io/content/images/2024/10/unnamed--18-.jpg'},\n",
       " {'article_link': 'https://www.deeplearning.ai/the-batch/issue-268/',\n",
       "  'article_title': 'Hollywood Embraces Video Gen, New Restrictions on Deepfakes, More Open Source Models, Robot Server',\n",
       "  'article_publication_date': 'Sep 25, 2024',\n",
       "  'article_image_url': 'https://dl-staging-website.ghost.io/content/images/2024/09/unnamed--13-.png'},\n",
       " {'article_link': 'https://www.deeplearning.ai/the-batch/issue-267/',\n",
       "  'article_title': 'Models Built for Reasoning, High Gear for Llama 3.1, Brains for Warehouse Robots, Stopping LLMs From Plagiarizing',\n",
       "  'article_publication_date': 'Sep 18, 2024',\n",
       "  'article_image_url': 'https://dl-staging-website.ghost.io/content/images/2024/09/Untitled-design.png'}]"
      ]
     },
     "execution_count": 4,
     "metadata": {},
     "output_type": "execute_result"
    }
   ],
   "source": [
    "vector_store = get_vector_store()\n",
    "metadatas = process_vector_store_metadatas(vector_store)\n",
    "metadatas"
   ]
  },
  {
   "cell_type": "code",
   "execution_count": null,
   "metadata": {},
   "outputs": [],
   "source": []
  }
 ],
 "metadata": {
  "kernelspec": {
   "display_name": "venv",
   "language": "python",
   "name": "python3"
  },
  "language_info": {
   "codemirror_mode": {
    "name": "ipython",
    "version": 3
   },
   "file_extension": ".py",
   "mimetype": "text/x-python",
   "name": "python",
   "nbconvert_exporter": "python",
   "pygments_lexer": "ipython3",
   "version": "3.12.4"
  }
 },
 "nbformat": 4,
 "nbformat_minor": 2
}
