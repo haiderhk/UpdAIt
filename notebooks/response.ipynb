{
 "cells": [
  {
   "cell_type": "code",
   "execution_count": 1,
   "metadata": {},
   "outputs": [],
   "source": [
    "from model import generate_response"
   ]
  },
  {
   "cell_type": "code",
   "execution_count": 4,
   "metadata": {},
   "outputs": [
    {
     "name": "stdout",
     "output_type": "stream",
     "text": [
      "Got llm, vector store, and chain!\n",
      "Waiting for response generation...\n",
      "Got the response!\n",
      "Metadata created!\n"
     ]
    }
   ],
   "source": [
    "query = \"What changes is AI going to bring in 2025?\"\n",
    "\n",
    "answer, metadata = await generate_response(query)"
   ]
  },
  {
   "cell_type": "code",
   "execution_count": 6,
   "metadata": {},
   "outputs": [
    {
     "name": "stdout",
     "output_type": "stream",
     "text": [
      "In 2025, AI is expected to show real value from past investments, transitioning from exploration to solving real problems such as reducing costs, generating revenue, and improving customer experiences. AI will become smarter and more accurate, enabling it to perform tasks on behalf of users. Significant progress is anticipated in AI's ability to see and process information visually, alongside a reduction in reliability issues known as hallucinations. Additionally, there will be a push to integrate AI into various products and services, leading to the development of contextual agents that adapt to user needs. The hope is that these agents will operate in the background, making daily tasks easier and allowing users to focus more on human interactions.\n",
      "\n",
      "\n",
      "\n",
      "[{'article_link': 'https://www.deeplearning.ai/the-batch/issue-282/', 'article_title': 'Happy New Year! Hopes For 2025 With Mustafa Suleyman, Audrey Tang, Albert Gu, Hanno Basse, Joseph Gonzalez, David Ding', 'chunk_heading': 'Becoming AI-native: The generality', 'score': 0.7059886455535889}, {'article_link': 'https://www.deeplearning.ai/the-batch/issue-271/', 'article_title': 'Bogus Apps, AI Boomtown, Better Embeddings, 2024 Highlights', 'chunk_heading': '- Finance: Investment boomed.', 'score': 0.7561588287353516}]\n"
     ]
    }
   ],
   "source": [
    "print(answer.format())\n",
    "print()\n",
    "print(metadata)"
   ]
  }
 ],
 "metadata": {
  "kernelspec": {
   "display_name": "venv",
   "language": "python",
   "name": "python3"
  },
  "language_info": {
   "codemirror_mode": {
    "name": "ipython",
    "version": 3
   },
   "file_extension": ".py",
   "mimetype": "text/x-python",
   "name": "python",
   "nbconvert_exporter": "python",
   "pygments_lexer": "ipython3",
   "version": "3.12.4"
  }
 },
 "nbformat": 4,
 "nbformat_minor": 2
}
