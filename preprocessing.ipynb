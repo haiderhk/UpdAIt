{
 "cells": [
  {
   "cell_type": "markdown",
   "metadata": {},
   "source": [
    "## Create a List containing links of all articles (Including featured article)"
   ]
  },
  {
   "cell_type": "code",
   "execution_count": 1,
   "metadata": {},
   "outputs": [],
   "source": [
    "import re, os, time\n",
    "from bs4 import BeautifulSoup\n",
    "\n",
    "from utils.utils import get_website_html\n",
    "from scraper import get_featured_article_link, get_articles_links, get_article_titles, get_formatted_article_text\n",
    "\n",
    "BASE_URL = \"https://www.deeplearning.ai\"\n",
    "THE_BATCH_URL = \"https://www.deeplearning.ai/the-batch/\""
   ]
  },
  {
   "cell_type": "code",
   "execution_count": 2,
   "metadata": {},
   "outputs": [],
   "source": [
    "home_page_html = get_website_html(THE_BATCH_URL)"
   ]
  },
  {
   "cell_type": "code",
   "execution_count": 3,
   "metadata": {},
   "outputs": [
    {
     "name": "stdout",
     "output_type": "stream",
     "text": [
      "Invalid article link (It is probably a featured article)...continuing\n",
      "0 --> https://www.deeplearning.ai/the-batch/issue-280/\n",
      "1 --> https://www.deeplearning.ai/the-batch/issue-279/\n",
      "2 --> https://www.deeplearning.ai/the-batch/issue-278/\n",
      "3 --> https://www.deeplearning.ai/the-batch/issue-277/\n",
      "4 --> https://www.deeplearning.ai/the-batch/issue-276/\n",
      "5 --> https://www.deeplearning.ai/the-batch/issue-275/\n",
      "6 --> https://www.deeplearning.ai/the-batch/issue-274/\n",
      "7 --> https://www.deeplearning.ai/the-batch/issue-273/\n",
      "8 --> https://www.deeplearning.ai/the-batch/issue-272/\n",
      "9 --> https://www.deeplearning.ai/the-batch/issue-271/\n",
      "10 --> https://www.deeplearning.ai/the-batch/issue-270/\n",
      "11 --> https://www.deeplearning.ai/the-batch/issue-269/\n",
      "12 --> https://www.deeplearning.ai/the-batch/issue-268/\n",
      "13 --> https://www.deeplearning.ai/the-batch/issue-267/\n",
      "14 --> https://www.deeplearning.ai/the-batch/issue-266/\n"
     ]
    }
   ],
   "source": [
    "unfeatured_articles_links = get_articles_links(home_page_html)\n",
    "\n",
    "for index, link in enumerate(unfeatured_articles_links):\n",
    "    print(f\"{index} --> {link}\")\n"
   ]
  },
  {
   "cell_type": "code",
   "execution_count": 4,
   "metadata": {},
   "outputs": [
    {
     "name": "stdout",
     "output_type": "stream",
     "text": [
      "https://www.deeplearning.ai/the-batch/issue-281/\n"
     ]
    }
   ],
   "source": [
    "featured_article_link = get_featured_article_link(home_page_html)\n",
    "print(featured_article_link)"
   ]
  },
  {
   "cell_type": "code",
   "execution_count": 5,
   "metadata": {},
   "outputs": [
    {
     "name": "stdout",
     "output_type": "stream",
     "text": [
      "Total number of articles:  16\n",
      "0 --> https://www.deeplearning.ai/the-batch/issue-281/\n",
      "1 --> https://www.deeplearning.ai/the-batch/issue-280/\n",
      "2 --> https://www.deeplearning.ai/the-batch/issue-279/\n",
      "3 --> https://www.deeplearning.ai/the-batch/issue-278/\n",
      "4 --> https://www.deeplearning.ai/the-batch/issue-277/\n",
      "5 --> https://www.deeplearning.ai/the-batch/issue-276/\n",
      "6 --> https://www.deeplearning.ai/the-batch/issue-275/\n",
      "7 --> https://www.deeplearning.ai/the-batch/issue-274/\n",
      "8 --> https://www.deeplearning.ai/the-batch/issue-273/\n",
      "9 --> https://www.deeplearning.ai/the-batch/issue-272/\n",
      "10 --> https://www.deeplearning.ai/the-batch/issue-271/\n",
      "11 --> https://www.deeplearning.ai/the-batch/issue-270/\n",
      "12 --> https://www.deeplearning.ai/the-batch/issue-269/\n",
      "13 --> https://www.deeplearning.ai/the-batch/issue-268/\n",
      "14 --> https://www.deeplearning.ai/the-batch/issue-267/\n",
      "15 --> https://www.deeplearning.ai/the-batch/issue-266/\n"
     ]
    }
   ],
   "source": [
    "all_articles_links = [featured_article_link] + unfeatured_articles_links\n",
    "print(\"Total number of articles: \", len(all_articles_links))\n",
    "for i, article in enumerate(all_articles_links):\n",
    "    print(f\"{i} --> {article}\")"
   ]
  },
  {
   "cell_type": "markdown",
   "metadata": {},
   "source": [
    "## Creating a list containing the titles of all articles.\n",
    "#### The order will be the same as the links in all_articles_links"
   ]
  },
  {
   "cell_type": "code",
   "execution_count": 6,
   "metadata": {},
   "outputs": [
    {
     "name": "stdout",
     "output_type": "stream",
     "text": [
      "Total titles: 16\n",
      "0 --> Top AI Stories of 2024! Agents Rise, Prices Fall, Models Shrink, Video Takes Off, Acquisitions Morph\n",
      "1 --> Phi-4 Breaks Size Barrier, HunyuanVideo Narrows Open Source Gap, Gemini 2.0 Flash Accelerates Multimodal Modeling, LLMs Propose Research Ideas\n",
      "2 --> Amazon Nova’s Competitive Price/Performance, OpenAI o1 Pro’s High Price/Performance, Google’s Game Worlds on Tap, Factual LLMs\n",
      "3 --> AI Agents Spend Real Money, Breaking Jailbreaks, Mistral Goes Big and Multimodal, AI’s Growing E-Waste Problem\n",
      "4 --> DeepSeek Takes On OpenAI, Robots Fold Laundry, Amazon and Anthropic Expand Partnership, More Efficient Object Detection\n",
      "5 --> Next-Gen Models Show Limited Gains, Real-Time Video Generation, China AI Chips Blocked, Transformer Training Streamlined\n",
      "6 --> Llama On the Battlefield, Mixture of Experts Pulls Ahead, Open Agentic Platform, Voter Support Chatbot\n",
      "7 --> AI Controls Desktops, Agents Train Algorithms, Does Anyone Comply With the EU’s AI Act?, Robots on the Loading Dock\n",
      "8 --> Trick or treat! AI Devours Energy, Innovation Can’t Win, Models Collapse, Benchmark Tests Are Meaningless, No Work for Coders\n",
      "9 --> AI Giants Go Nuclear, A Tech Bromance Turns Turbulent, Mistral Sharpens the Edge, Cheaper Video Generation\n",
      "10 --> Bogus Apps, AI Boomtown, Better Embeddings, 2024 Highlights\n",
      "11 --> How Meta’s Movie Gen Does It, AI’s Criminal Underground, Court Says LAION is Legal, OpenAI’s New Voice API\n",
      "12 --> Llama Goes Multimodal, Pros Embrace Generative Video, Military AI Guidelines, LLMs That Read Spreadsheets\n",
      "13 --> Hollywood Embraces Video Gen, New Restrictions on Deepfakes, More Open Source Models, Robot Server\n",
      "14 --> Models Built for Reasoning, High Gear for Llama 3.1, Brains for Warehouse Robots, Stopping LLMs From Plagiarizing\n",
      "15 --> Nations Sign Binding AI Treaty, Waymo Reveals Safety Record, 2D to 3D Goes Mainstream, Balancing Web Data Distributions\n"
     ]
    }
   ],
   "source": [
    "all_articles_titles = get_article_titles(home_page_html)\n",
    "print(f\"Total titles: {len(all_articles_titles)}\")\n",
    "for i, title in enumerate(all_articles_titles):\n",
    "    print(f\"{i} --> {title}\")"
   ]
  },
  {
   "cell_type": "markdown",
   "metadata": {},
   "source": [
    "## Creating the Chunks of each Article (Docs)"
   ]
  },
  {
   "cell_type": "markdown",
   "metadata": {},
   "source": [
    "#### Storing each article's text in a text file"
   ]
  },
  {
   "cell_type": "code",
   "execution_count": 7,
   "metadata": {},
   "outputs": [
    {
     "name": "stdout",
     "output_type": "stream",
     "text": [
      "Fetching article text with link:  https://www.deeplearning.ai/the-batch/issue-281/\n",
      "Saved: formatted_articles/article_0_the-batch_issue-281.txt\n",
      "\n",
      "Fetching article text with link:  https://www.deeplearning.ai/the-batch/issue-280/\n",
      "Saved: formatted_articles/article_1_the-batch_issue-280.txt\n",
      "\n",
      "Fetching article text with link:  https://www.deeplearning.ai/the-batch/issue-279/\n",
      "Saved: formatted_articles/article_2_the-batch_issue-279.txt\n",
      "\n",
      "Fetching article text with link:  https://www.deeplearning.ai/the-batch/issue-278/\n",
      "Saved: formatted_articles/article_3_the-batch_issue-278.txt\n",
      "\n",
      "Fetching article text with link:  https://www.deeplearning.ai/the-batch/issue-277/\n",
      "Saved: formatted_articles/article_4_the-batch_issue-277.txt\n",
      "\n",
      "Fetching article text with link:  https://www.deeplearning.ai/the-batch/issue-276/\n",
      "Saved: formatted_articles/article_5_the-batch_issue-276.txt\n",
      "\n",
      "Fetching article text with link:  https://www.deeplearning.ai/the-batch/issue-275/\n",
      "Saved: formatted_articles/article_6_the-batch_issue-275.txt\n",
      "\n",
      "Fetching article text with link:  https://www.deeplearning.ai/the-batch/issue-274/\n",
      "Saved: formatted_articles/article_7_the-batch_issue-274.txt\n",
      "\n",
      "Fetching article text with link:  https://www.deeplearning.ai/the-batch/issue-273/\n",
      "Saved: formatted_articles/article_8_the-batch_issue-273.txt\n",
      "\n",
      "Fetching article text with link:  https://www.deeplearning.ai/the-batch/issue-272/\n",
      "Saved: formatted_articles/article_9_the-batch_issue-272.txt\n",
      "\n",
      "Fetching article text with link:  https://www.deeplearning.ai/the-batch/issue-271/\n",
      "Saved: formatted_articles/article_10_the-batch_issue-271.txt\n",
      "\n",
      "Fetching article text with link:  https://www.deeplearning.ai/the-batch/issue-270/\n",
      "Saved: formatted_articles/article_11_the-batch_issue-270.txt\n",
      "\n",
      "Fetching article text with link:  https://www.deeplearning.ai/the-batch/issue-269/\n",
      "Saved: formatted_articles/article_12_the-batch_issue-269.txt\n",
      "\n",
      "Fetching article text with link:  https://www.deeplearning.ai/the-batch/issue-268/\n",
      "Saved: formatted_articles/article_13_the-batch_issue-268.txt\n",
      "\n",
      "Fetching article text with link:  https://www.deeplearning.ai/the-batch/issue-267/\n",
      "Saved: formatted_articles/article_14_the-batch_issue-267.txt\n",
      "\n",
      "Fetching article text with link:  https://www.deeplearning.ai/the-batch/issue-266/\n",
      "Saved: formatted_articles/article_15_the-batch_issue-266.txt\n",
      "\n"
     ]
    }
   ],
   "source": [
    "def save_all_articles_text(all_articles_links, dir_name):\n",
    "    os.makedirs(dir_name, exist_ok=True)\n",
    "    for index, link in enumerate(all_articles_links):\n",
    "        article_text = get_formatted_article_text(link)\n",
    "        slug = re.sub(r'https?://[^/]+/', '', link)  # remove scheme and domain\n",
    "        slug = slug.strip(\"/\").replace(\"/\", \"_\")     # turn '/the-batch/issue-281/' -> 'the-batch_issue-281'\n",
    "        file_name = f\"article_{index}_{slug}.txt\"\n",
    "        file_path = os.path.join(dir_name, file_name)\n",
    "        with open(file_path, \"w\", encoding=\"utf-8\") as f:\n",
    "            f.write(article_text)\n",
    "            print(f\"Saved: {file_path}\\n\")\n",
    "        time.sleep(1) # Delay to not overwhelm the server :)\n",
    "        \n",
    "\n",
    "save_all_articles_text(all_articles_links)"
   ]
  },
  {
   "cell_type": "markdown",
   "metadata": {},
   "source": [
    "#### Splitting the article into Chunks using MarkdownTextSplitter and Saving to ChromaDB"
   ]
  },
  {
   "cell_type": "code",
   "execution_count": 8,
   "metadata": {},
   "outputs": [],
   "source": [
    "from langchain_openai import OpenAIEmbeddings\n",
    "from langchain_chroma import Chroma\n",
    "from dotenv import load_dotenv\n",
    "\n",
    "load_dotenv()\n",
    "\n",
    "embeddings = OpenAIEmbeddings(model = \"text-embedding-3-small\")\n",
    "\n",
    "vector_store = Chroma(collection_name=\"articles_collection\", embedding_function=embeddings)\n"
   ]
  },
  {
   "cell_type": "code",
   "execution_count": 10,
   "metadata": {},
   "outputs": [
    {
     "name": "stdout",
     "output_type": "stream",
     "text": [
      "article_12_the-batch_issue-269.txt\n",
      "formatted_articles/article_12_the-batch_issue-269.txt\n",
      "12\n",
      "Length of docs of article with index 12 = 12\n",
      "['id12_0', 'id12_1', 'id12_2', 'id12_3', 'id12_4', 'id12_5', 'id12_6', 'id12_7', 'id12_8', 'id12_9', 'id12_10', 'id12_11']\n",
      "article_14_the-batch_issue-267.txt\n",
      "formatted_articles/article_14_the-batch_issue-267.txt\n",
      "14\n",
      "Length of docs of article with index 14 = 12\n",
      "['id14_0', 'id14_1', 'id14_2', 'id14_3', 'id14_4', 'id14_5', 'id14_6', 'id14_7', 'id14_8', 'id14_9', 'id14_10', 'id14_11']\n",
      "article_4_the-batch_issue-277.txt\n",
      "formatted_articles/article_4_the-batch_issue-277.txt\n",
      "4\n",
      "Length of docs of article with index 4 = 13\n",
      "['id4_0', 'id4_1', 'id4_2', 'id4_3', 'id4_4', 'id4_5', 'id4_6', 'id4_7', 'id4_8', 'id4_9', 'id4_10', 'id4_11', 'id4_12']\n",
      "article_2_the-batch_issue-279.txt\n",
      "formatted_articles/article_2_the-batch_issue-279.txt\n",
      "2\n",
      "Length of docs of article with index 2 = 15\n",
      "['id2_0', 'id2_1', 'id2_2', 'id2_3', 'id2_4', 'id2_5', 'id2_6', 'id2_7', 'id2_8', 'id2_9', 'id2_10', 'id2_11', 'id2_12', 'id2_13', 'id2_14']\n",
      "article_10_the-batch_issue-271.txt\n",
      "formatted_articles/article_10_the-batch_issue-271.txt\n",
      "10\n",
      "Length of docs of article with index 10 = 13\n",
      "['id10_0', 'id10_1', 'id10_2', 'id10_3', 'id10_4', 'id10_5', 'id10_6', 'id10_7', 'id10_8', 'id10_9', 'id10_10', 'id10_11', 'id10_12']\n",
      "article_1_the-batch_issue-280.txt\n",
      "formatted_articles/article_1_the-batch_issue-280.txt\n",
      "1\n",
      "Length of docs of article with index 1 = 14\n",
      "['id1_0', 'id1_1', 'id1_2', 'id1_3', 'id1_4', 'id1_5', 'id1_6', 'id1_7', 'id1_8', 'id1_9', 'id1_10', 'id1_11', 'id1_12', 'id1_13']\n",
      "article_8_the-batch_issue-273.txt\n",
      "formatted_articles/article_8_the-batch_issue-273.txt\n",
      "8\n",
      "Length of docs of article with index 8 = 14\n",
      "['id8_0', 'id8_1', 'id8_2', 'id8_3', 'id8_4', 'id8_5', 'id8_6', 'id8_7', 'id8_8', 'id8_9', 'id8_10', 'id8_11', 'id8_12', 'id8_13']\n",
      "article_7_the-batch_issue-274.txt\n",
      "formatted_articles/article_7_the-batch_issue-274.txt\n",
      "7\n",
      "Length of docs of article with index 7 = 13\n",
      "['id7_0', 'id7_1', 'id7_2', 'id7_3', 'id7_4', 'id7_5', 'id7_6', 'id7_7', 'id7_8', 'id7_9', 'id7_10', 'id7_11', 'id7_12']\n",
      "article_11_the-batch_issue-270.txt\n",
      "formatted_articles/article_11_the-batch_issue-270.txt\n",
      "11\n",
      "Length of docs of article with index 11 = 14\n",
      "['id11_0', 'id11_1', 'id11_2', 'id11_3', 'id11_4', 'id11_5', 'id11_6', 'id11_7', 'id11_8', 'id11_9', 'id11_10', 'id11_11', 'id11_12', 'id11_13']\n",
      "article_5_the-batch_issue-276.txt\n",
      "formatted_articles/article_5_the-batch_issue-276.txt\n",
      "5\n",
      "Length of docs of article with index 5 = 13\n",
      "['id5_0', 'id5_1', 'id5_2', 'id5_3', 'id5_4', 'id5_5', 'id5_6', 'id5_7', 'id5_8', 'id5_9', 'id5_10', 'id5_11', 'id5_12']\n",
      "article_3_the-batch_issue-278.txt\n",
      "formatted_articles/article_3_the-batch_issue-278.txt\n",
      "3\n",
      "Length of docs of article with index 3 = 10\n",
      "['id3_0', 'id3_1', 'id3_2', 'id3_3', 'id3_4', 'id3_5', 'id3_6', 'id3_7', 'id3_8', 'id3_9']\n",
      "article_13_the-batch_issue-268.txt\n",
      "formatted_articles/article_13_the-batch_issue-268.txt\n",
      "13\n",
      "Length of docs of article with index 13 = 11\n",
      "['id13_0', 'id13_1', 'id13_2', 'id13_3', 'id13_4', 'id13_5', 'id13_6', 'id13_7', 'id13_8', 'id13_9', 'id13_10']\n",
      "article_15_the-batch_issue-266.txt\n",
      "formatted_articles/article_15_the-batch_issue-266.txt\n",
      "15\n",
      "Length of docs of article with index 15 = 12\n",
      "['id15_0', 'id15_1', 'id15_2', 'id15_3', 'id15_4', 'id15_5', 'id15_6', 'id15_7', 'id15_8', 'id15_9', 'id15_10', 'id15_11']\n",
      "article_6_the-batch_issue-275.txt\n",
      "formatted_articles/article_6_the-batch_issue-275.txt\n",
      "6\n",
      "Length of docs of article with index 6 = 12\n",
      "['id6_0', 'id6_1', 'id6_2', 'id6_3', 'id6_4', 'id6_5', 'id6_6', 'id6_7', 'id6_8', 'id6_9', 'id6_10', 'id6_11']\n",
      "article_9_the-batch_issue-272.txt\n",
      "formatted_articles/article_9_the-batch_issue-272.txt\n",
      "9\n",
      "Length of docs of article with index 9 = 14\n",
      "['id9_0', 'id9_1', 'id9_2', 'id9_3', 'id9_4', 'id9_5', 'id9_6', 'id9_7', 'id9_8', 'id9_9', 'id9_10', 'id9_11', 'id9_12', 'id9_13']\n",
      "article_0_the-batch_issue-281.txt\n",
      "formatted_articles/article_0_the-batch_issue-281.txt\n",
      "0\n",
      "Length of docs of article with index 0 = 15\n",
      "['id0_0', 'id0_1', 'id0_2', 'id0_3', 'id0_4', 'id0_5', 'id0_6', 'id0_7', 'id0_8', 'id0_9', 'id0_10', 'id0_11', 'id0_12', 'id0_13', 'id0_14']\n"
     ]
    }
   ],
   "source": [
    "from utils.utils import get_article_chunks, parse_article_index, create_metadata\n",
    "\n",
    "for filename in os.listdir(\"formatted_articles\"):\n",
    "    if not filename.endswith(\".txt\"):\n",
    "        # print(\"Skipping: \", filename)\n",
    "        continue\n",
    "    print(filename)\n",
    "    filepath = os.path.join(\"formatted_articles\", filename)\n",
    "    with open(filepath, \"r\") as myfile:\n",
    "        print(myfile.name)\n",
    "        article_text = myfile.read()\n",
    "        docs = get_article_chunks(article_text)\n",
    "        article_index = parse_article_index(myfile.name)\n",
    "        print(article_index)\n",
    "        print(f\"Length of docs of article with index {article_index} = {len(docs)}\")\n",
    "        metadatas, ids = create_metadata(docs, article_index, all_articles_links, all_articles_titles)\n",
    "        print(ids)\n",
    "    vector_store.add_texts(texts=docs, ids=ids, metadatas=metadatas)\n",
    "    time.sleep(0.5)"
   ]
  },
  {
   "cell_type": "code",
   "execution_count": 11,
   "metadata": {},
   "outputs": [
    {
     "name": "stdout",
     "output_type": "stream",
     "text": [
      "* ## Innovation Can’t Win\n",
      "Politicians and pundits have conjured visions of doom to convince lawmakers to clamp down on AI. What if terrified legislators choke off innovation in AI?\n",
      "The fear: Laws and treaties that purportedly were intended to prevent harms wrought by AI are making developing new models legally risky and prohibitively expensive. Without room to experiment, AI’s benefits will be strangled by red tape.\n",
      "Horror stories: At least one law that would have damaged AI innovation and open source has been blocked, but another is already limiting access to technology and raising costs for companies, developers, and users worldwide. More such efforts likely are underway.\n",
      "- California SB 1047 would have held developers of models above a certain size (requiring 10 26 floating-point operations or cost $100 million to train) liable for unintended harms caused by their models, such as helping to perpetrate thefts, cyberattacks, or design weapons of mass destruction. The bill required such systems to include a “kill switch” that would enable developers to disable them in an emergency – a problematic requirement for open-weights models that could be modified and deployed anywhere. Governor Gavin Newsom vetoed the bill in October, arguing that it didn’t target real risks and that it could have unintended consequences, but legislators may yet introduce (and the governor could sign) a modified bill.\n",
      "* - The European Union’s AI Act, implemented in August 2024, restricts applications deemed high-risk, such as face recognition and predictive policing. It subjects models to strict scrutiny in essential fields like education, employment, and law enforcement. It also requires developers to provide detailed information about their models’ algorithms and data sources. But critics argue that it could stifle European companies’ early-stage research. Meta restricted Llama 3’s vision capabilities in the EU, which may run afoul of the union’s privacy laws, and Apple delayed launching AI features in Europe due to regulatory uncertainties. Meta, Apple, Anthropic, TikTok, and other leading companies did not sign the EU’s Artificial Intelligence Pact, which would have committed them to comply with certain provisions of the AI Act before they take effect.\n",
      "- In September, the U.S, UK, and many countries in Europe and elsewhere signed the Framework Convention on Artificial Intelligence and Human Rights, Democracy, and the Rule of Law. This treaty, which will take effect by the end of the year, requires that AI models respect democracy and human rights. It’s legally binding on signatories and may be enforceable by the council’s international Court of Human Rights. In practical terms, though, each member can impose its own definition of democracy and human rights, potentially creating a patchwork of legal uncertainties and burdens for AI companies worldwide.\n",
      "- China has passed a number of laws that focus on reducing AI’s potential harms by exerting strong government control. Key laws require companies to label AI-generated output and disclose training sets and algorithms to the government, and mandate that AI-generated media align with government policies on inappropriate speech. Some companies, like OpenAI and Anthropic, have restricted their offerings in China.\n"
     ]
    }
   ],
   "source": [
    "results = vector_store.similarity_search(\n",
    "    \"What was the law that prevented the advancements in open source AI?\",\n",
    "    k = 2\n",
    ")\n",
    "\n",
    "for res in results:\n",
    "    print(f\"* {res.page_content}\")"
   ]
  },
  {
   "cell_type": "code",
   "execution_count": 12,
   "metadata": {},
   "outputs": [
    {
     "name": "stdout",
     "output_type": "stream",
     "text": [
      "{'article_link': 'https://www.deeplearning.ai/the-batch/issue-273/', 'article_title': 'Trick or treat! AI Devours Energy, Innovation Can’t Win, Models Collapse, Benchmark Tests Are Meaningless, No Work for Coders', 'chunk_heading': 'Innovation Can’t Win', 'source': 5}\n"
     ]
    }
   ],
   "source": [
    "print(results[0].metadata)"
   ]
  },
  {
   "cell_type": "markdown",
   "metadata": {},
   "source": [
    "## Querying using Chains"
   ]
  },
  {
   "cell_type": "code",
   "execution_count": 13,
   "metadata": {},
   "outputs": [],
   "source": [
    "from langchain.chains.qa_with_sources.retrieval import RetrievalQAWithSourcesChain\n",
    "from langchain_openai import ChatOpenAI\n",
    "\n",
    "llm = ChatOpenAI(model = \"gpt-4o-mini\", max_tokens = 256, temperature=0.5)\n",
    "\n",
    "chain = RetrievalQAWithSourcesChain.from_llm(llm = llm, retriever=vector_store.as_retriever())\n",
    "\n",
    "query = \"What was the role of AI in the elections?\"\n",
    "\n",
    "response = chain.invoke({\"question\": query}, return_only_outputs = True)"
   ]
  },
  {
   "cell_type": "code",
   "execution_count": 14,
   "metadata": {},
   "outputs": [
    {
     "name": "stdout",
     "output_type": "stream",
     "text": [
      "{'answer': \"AI played a role in the recent United States elections by providing voters with access to verified, nonpartisan information through platforms like Perplexity, which launched an Election Information Hub. This AI-powered website offered live updates, summaries, and explanations of key issues related to the elections. Additionally, AI chatbots were utilized by various search engines to enhance user experience, although some, like Microsoft Copilot and OpenAI's SearchGPT, opted to refer users to other sources for election-related inquiries. While there were concerns about AI creating misleading content, it appears that generative AI was not the primary method of manipulation in this election cycle; instead, the amplification effect of software bots on social media was identified as a more significant concern. Overall, fears that AI would disrupt the democratic process in the 2024 elections were largely unfounded.\\n\\n\", 'sources': '8, 9, 0'}\n"
     ]
    }
   ],
   "source": [
    "print(response)"
   ]
  },
  {
   "cell_type": "code",
   "execution_count": 16,
   "metadata": {},
   "outputs": [
    {
     "name": "stdout",
     "output_type": "stream",
     "text": [
      "[Document(metadata={'article_link': 'https://www.deeplearning.ai/the-batch/issue-275/', 'article_title': 'Llama On the Battlefield, Mixture of Experts Pulls Ahead, Open Agentic Platform, Voter Support Chatbot', 'chunk_heading': 'Voter’s Helper', 'source': 8}, page_content='## Voter’s Helper\\nSome voters navigated last week’s United States elections with help from a large language model that generated output based on verified, nonpartisan information.\\nWhat’s new: Perplexity, an AI-powered search engine founded in 2022 by former OpenAI and Meta researchers, launched its Election Information Hub , an AI-enhanced website that combines AI-generated analysis with real-time data. The model provided live updates, summaries, and explanations of key issues in the recent national, state, and local elections in the U.S. (The hub remains live, but it no longer displays information about local contests or delivers detailed results for election-related searches.)\\nHow it works: Perplexity partnered with Associated Press for election news and Democracy Works , a nonprofit that develops technology and data related to democracy. Democracy Works provided an API for information about elections, issues, and polling locations.\\n- Users could search by candidate, issue, state, district, or postal code. For example, searching a\\xa0postal code returned AI-generated summaries of local races, measures, or other ballot issues drawn from vetted sources such as Ballotpedia, a nonpartisan clearinghouse for election information. A chatbot window enabled users to ask questions and drill down on citations of information sources.\\n- Initial testing by The Verge revealed problems with accuracy in AI-generated summaries. These included outdated information (for example, summaries failed to consistently note Robert F. Kennedy Jr.’s withdrawal from the presidential election), mistakes in candidate profiles, and mishandling of write-in candidates. Perplexity eventually fixed many of the errors.'), Document(metadata={'article_link': 'https://www.deeplearning.ai/the-batch/issue-275/', 'article_title': 'Llama On the Battlefield, Mixture of Experts Pulls Ahead, Open Agentic Platform, Voter Support Chatbot', 'chunk_heading': 'Behind the news: While', 'source': 9}, page_content='Behind the news: While Perplexity courted demand for AI-generated information about the U.S. elections, other search-engine providers took more cautious approaches. You.com offered an election chatbot that focused on vote tallies provided by Decision Desk HQ, an election information broker, rather than information about issues or polling locations. Google and Microsoft Bing emphasized information from vetted sources. Microsoft Copilot and OpenAI (which had launched its SearchGPT service the week before the election) simply declined to answer election-related questions, referring users to other sources of information.\\nWhy it matters: Chatbots are maturing to the point where they can provide fairly trustworthy information in high-stakes decisions like elections. The combination of web search and retrieval-augmented generation contributes to decision support systems that are both personalized and accurate.\\nWe’re thinking: Perfect information is hard to come by in any election. Traditional media, social media, and your uncle’s strongly held opinions all have limitations. Chatbots aren’t perfect either, but when they’re properly designed to avoid biased output and outfitted with high-quality information sources, they can help strengthen users’ choices and voices.')]\n",
      "* ## Voter’s Helper\n",
      "Some voters navigated last week’s United States elections with help from a large language model that generated output based on verified, nonpartisan information.\n",
      "What’s new: Perplexity, an AI-powered search engine founded in 2022 by former OpenAI and Meta researchers, launched its Election Information Hub , an AI-enhanced website that combines AI-generated analysis with real-time data. The model provided live updates, summaries, and explanations of key issues in the recent national, state, and local elections in the U.S. (The hub remains live, but it no longer displays information about local contests or delivers detailed results for election-related searches.)\n",
      "How it works: Perplexity partnered with Associated Press for election news and Democracy Works , a nonprofit that develops technology and data related to democracy. Democracy Works provided an API for information about elections, issues, and polling locations.\n",
      "- Users could search by candidate, issue, state, district, or postal code. For example, searching a postal code returned AI-generated summaries of local races, measures, or other ballot issues drawn from vetted sources such as Ballotpedia, a nonpartisan clearinghouse for election information. A chatbot window enabled users to ask questions and drill down on citations of information sources.\n",
      "- Initial testing by The Verge revealed problems with accuracy in AI-generated summaries. These included outdated information (for example, summaries failed to consistently note Robert F. Kennedy Jr.’s withdrawal from the presidential election), mistakes in candidate profiles, and mishandling of write-in candidates. Perplexity eventually fixed many of the errors.\n",
      "* Behind the news: While Perplexity courted demand for AI-generated information about the U.S. elections, other search-engine providers took more cautious approaches. You.com offered an election chatbot that focused on vote tallies provided by Decision Desk HQ, an election information broker, rather than information about issues or polling locations. Google and Microsoft Bing emphasized information from vetted sources. Microsoft Copilot and OpenAI (which had launched its SearchGPT service the week before the election) simply declined to answer election-related questions, referring users to other sources of information.\n",
      "Why it matters: Chatbots are maturing to the point where they can provide fairly trustworthy information in high-stakes decisions like elections. The combination of web search and retrieval-augmented generation contributes to decision support systems that are both personalized and accurate.\n",
      "We’re thinking: Perfect information is hard to come by in any election. Traditional media, social media, and your uncle’s strongly held opinions all have limitations. Chatbots aren’t perfect either, but when they’re properly designed to avoid biased output and outfitted with high-quality information sources, they can help strengthen users’ choices and voices.\n"
     ]
    }
   ],
   "source": [
    "results = vector_store.similarity_search(\n",
    "    \"What was the role of AI in the elections?\",\n",
    "    k = 2\n",
    ")\n",
    "print(results)\n",
    "for res in results:\n",
    "    print(f\"* {res.page_content}\")"
   ]
  },
  {
   "cell_type": "code",
   "execution_count": null,
   "metadata": {},
   "outputs": [],
   "source": []
  }
 ],
 "metadata": {
  "kernelspec": {
   "display_name": "venv",
   "language": "python",
   "name": "python3"
  },
  "language_info": {
   "codemirror_mode": {
    "name": "ipython",
    "version": 3
   },
   "file_extension": ".py",
   "mimetype": "text/x-python",
   "name": "python",
   "nbconvert_exporter": "python",
   "pygments_lexer": "ipython3",
   "version": "3.12.4"
  }
 },
 "nbformat": 4,
 "nbformat_minor": 2
}
